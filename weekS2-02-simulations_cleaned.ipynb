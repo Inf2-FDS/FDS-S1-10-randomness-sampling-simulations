{
 "cells": [
  {
   "cell_type": "markdown",
   "metadata": {},
   "source": [
    "# FDS Lab S2-02: Randomness, Sampling and Simulations\n",
    "\n",
    "Welcome to the new semester and the first lab! We hope you had a relaxing break.\n",
    "\n",
    "**Learning outcomes:** In this lab you will learn how to use randomizing functions and sampling. By the end of this lab you should be able to:\n",
    "- sample from probability distributions using numpy functions,\n",
    "- sample from discrete sets of items,\n",
    "- run statistical simulations to compute the distribution of a statistic,\n",
    "- identify samples of convenience and problems with them, and\n",
    "- code more complex statistical processes so that they can be run/sampled from.\n",
    "\n",
    "We will go over simulations and randomness, from the topic on \"Randomness, Simulation and Sampling\".\n",
    "\n",
    "Parts of this lab is based on Lab 5 from the Berkley Data 8 course.\n",
    "\n",
    "**Data set information:** The data used in this lab will contain salary data and other statistics for basketball players from the 2014-2015 NBA season. This data was collected from the following sports analytic sites: [Basketball Reference](http://www.basketball-reference.com) and [Spotrac](http://www.spotrac.com).\n",
    "\n",
    "Let us start, as usual, by importing the necessary libraries set up the imports by running the cell below."
   ]
  },
  {
   "cell_type": "code",
   "execution_count": 1,
   "metadata": {},
   "outputs": [],
   "source": [
    "import numpy as np\n",
    "import pandas as pd\n",
    "import matplotlib\n",
    "%matplotlib inline\n",
    "import matplotlib.pyplot as plt\n",
    "\n",
    "# New libraries\n",
    "from scipy.stats import uniform, norm, expon"
   ]
  },
  {
   "cell_type": "markdown",
   "metadata": {},
   "source": [
    "# 1. Sampling from a probability distribution\n",
    "\n",
    "First we'll test sampling from probability distributions in python. For a uniform distribution between 0 and 1, this can be done using the `np.random.uniform` function. \n",
    "\n",
    "**Exercise 01:** \n",
    "- Generate 1000 samples from a uniform distribution using `np.random.uniform(size = integer)`,where you substitute `integer` with the sample size, and \n",
    "- plot a histogram of the results. \n",
    "- Create a new figure with three subplots, where you repeat this with more samples (say 100000, i.e. $10^5$) and fewer samples (say 100). What do you observe? \n",
    "\n",
    "*Hint: You should get something that looks like the uniform distribution in Figure 1 of the Randomness, Simulation and Sampling lecture notes.*"
   ]
  },
  {
   "cell_type": "code",
   "execution_count": 2,
   "metadata": {},
   "outputs": [
    {
     "data": {
      "text/plain": [
       "(array([ 97., 106.,  94., 104.,  90., 105., 109., 100., 107.,  88.]),\n",
       " array([0.00177711, 0.10155828, 0.20133946, 0.30112063, 0.40090181,\n",
       "        0.50068299, 0.60046416, 0.70024534, 0.80002651, 0.89980769,\n",
       "        0.99958886]),\n",
       " <BarContainer object of 10 artists>)"
      ]
     },
     "execution_count": 2,
     "metadata": {},
     "output_type": "execute_result"
    },
    {
     "data": {
      "image/png": "[encoded data removed]",
      "text/plain": [
       "<Figure size 432x288 with 1 Axes>"
      ]
     },
     "metadata": {
      "needs_background": "light"
     },
     "output_type": "display_data"
    }
   ],
   "source": [
    "# Your code\n",
    "x = np.random.uniform(size=1000)\n",
    "plt.hist(x, 10)"
   ]
  },
  {
   "cell_type": "code",
   "execution_count": 3,
   "metadata": {},
   "outputs": [
    {
     "data": {
      "image/png": "[encoded data removed]",
      "text/plain": [
       "<Figure size 432x144 with 3 Axes>"
      ]
     },
     "metadata": {
      "needs_background": "light"
     },
     "output_type": "display_data"
    }
   ],
   "source": [
    "# Your code\n",
    "x1 = np.random.uniform(size=100)\n",
    "x2 = np.random.uniform(size=1000)\n",
    "x3 = np.random.uniform(size=100000)\n",
    "fig, (ax1, ax2, ax3) = plt.subplots(1,3, figsize=(6,2))\n",
    "ax1.hist(x1, 10)\n",
    "ax1.set_xlabel(\"x\")\n",
    "ax2.hist(x2, 10)\n",
    "ax2.set_xlabel(\"x\")\n",
    "ax3.hist(x3, 10)\n",
    "ax3.set_xlabel(\"x\")\n",
    "plt.tight_layout()"
   ]
  },
  {
   "cell_type": "markdown",
   "metadata": {},
   "source": [
    "Your answer: \n",
    "The more samples we use the more it looks like a uniform distribution."
   ]
  },
  {
   "cell_type": "markdown",
   "metadata": {},
   "source": [
    "**Exercise 02:** Repeat this exercise for  normal and exponential distributions using `np.random.normal` and `np.random.exponential`, using a 2x3 layout."
   ]
  },
  {
   "cell_type": "code",
   "execution_count": 25,
   "metadata": {},
   "outputs": [
    {
     "data": {
      "image/png": "[encoded data removed]",
      "text/plain": [
       "<Figure size 432x288 with 6 Axes>"
      ]
     },
     "metadata": {
      "needs_background": "light"
     },
     "output_type": "display_data"
    }
   ],
   "source": [
    "# Your code\n",
    "x1 = np.random.normal(size=100)\n",
    "x2 = np.random.normal(size=1000)\n",
    "x3 = np.random.normal(size=100000)\n",
    "y1 = np.random.exponential(size=100)\n",
    "y2 = np.random.exponential(size=1000)\n",
    "y3 = np.random.exponential(size=100000)\n",
    "fig, ((ax1, ax2, ax3),(ax4, ax5, ax6)) = plt.subplots(2,3, figsize=(6, 4))\n",
    "## TODO x labels\n",
    "ax1.hist(x1, 10)\n",
    "ax2.hist(x2, 10)\n",
    "ax3.hist(x3, 10)\n",
    "ax4.hist(y1, 10)\n",
    "ax4.set_xlabel(\"x\")\n",
    "ax5.hist(y2, 10)\n",
    "ax5.set_xlabel(\"x\")\n",
    "ax6.hist(y3, 10)\n",
    "ax6.set_xlabel(\"x\")\n",
    "plt.tight_layout()"
   ]
  },
  {
   "cell_type": "markdown",
   "metadata": {},
   "source": [
    "# 2. Sampling from a set of discrete items\n",
    "\n",
    "One day, when you come home after a long week, you see a hot bowl of nachos waiting on the dining table! Let's say that whenever you take a nacho from the bowl, it will either have only **cheese**, only **salsa**, **both** cheese and salsa, or **neither** cheese nor salsa (a sad tortilla chip indeed). \n",
    "\n",
    "Let's try and simulate taking nachos from the bowl at random using the function, `np.random.choice(...)`.\n",
    "\n",
    "### `np.random.choice`\n",
    "\n",
    "`np.random.choice` picks one item at random from the given array. It is equally likely to pick any of the items. Run the cell below several times, and observe how the results change."
   ]
  },
  {
   "cell_type": "code",
   "execution_count": 5,
   "metadata": {},
   "outputs": [
    {
     "data": {
      "text/plain": [
       "'salsa'"
      ]
     },
     "execution_count": 5,
     "metadata": {},
     "output_type": "execute_result"
    }
   ],
   "source": [
    "nachos = ['cheese', 'salsa', 'both', 'neither']\n",
    "np.random.choice(nachos)"
   ]
  },
  {
   "cell_type": "markdown",
   "metadata": {},
   "source": [
    "### Sampling with replacement\n",
    "\n",
    "To repeat this process multiple times, pass in an int `n` as the second argument to return `n` different random choices. By default, `np.random.choice` samples **with replacement** and returns an *array* of items. \n",
    "\n",
    "Run the next cell to see an example of sampling with replacement 3 times from the `nachos` array."
   ]
  },
  {
   "cell_type": "code",
   "execution_count": 6,
   "metadata": {},
   "outputs": [
    {
     "data": {
      "text/plain": [
       "array(['cheese', 'both', 'cheese'], dtype='<U7')"
      ]
     },
     "execution_count": 6,
     "metadata": {},
     "output_type": "execute_result"
    }
   ],
   "source": [
    "np.random.choice(nachos, 3)"
   ]
  },
  {
   "cell_type": "markdown",
   "metadata": {},
   "source": [
    "### Sampling without replacement\n",
    "\n",
    "Let's see what happens when we sample without replacement. Use the `replace=False` option to sample 3 items repeatedly."
   ]
  },
  {
   "cell_type": "code",
   "execution_count": 7,
   "metadata": {},
   "outputs": [
    {
     "data": {
      "text/plain": [
       "array(['neither', 'both', 'salsa'], dtype='<U7')"
      ]
     },
     "execution_count": 7,
     "metadata": {},
     "output_type": "execute_result"
    }
   ],
   "source": [
    "np.random.choice(nachos, 3, replace=False)"
   ]
  },
  {
   "cell_type": "markdown",
   "metadata": {},
   "source": [
    "This means that when we sample without replacement, each time we sample, we remove the sampled option from the set."
   ]
  },
  {
   "cell_type": "markdown",
   "metadata": {},
   "source": [
    "## 2. Statistical simulation\n",
    "\n",
    "In the lectures, we've defined a statistical simulation as follows:\n",
    "\n",
    "First, decide on:\n",
    "- The statistic of interest (mean $\\overline{X}$, standard deviation $S$, Total, etc.)\n",
    "- The population distribution (e.g. normal with particular mean\n",
    "  and variance) or set of discrete items\n",
    "- The sample size $n$\n",
    "- The number of replications $k$ \n",
    "\n",
    "Then simulate according to this procedure:\n",
    "- For $i$ in $1,\\dots, k$\n",
    "  - Sample $n$ items from the population distribution or set of\n",
    "    discrete items\n",
    "  - Compute and store the statistic of interest for this sample\n",
    "- Generate a histogram of the $k$ stored sample statistics\n",
    "\n",
    "**Excercise 03:** Run a statistical simulation of the mean of the exponential distribution with a sample size $n=10$ and $k=10000$ replications. You should end up with a plot that looks like the bottom left plot of Figure 3 in the lecture notes on Randomness, sampling and simulation."
   ]
  },
  {
   "cell_type": "code",
   "execution_count": 8,
   "metadata": {},
   "outputs": [
    {
     "data": {
      "text/plain": [
       "(array([  17.,  113.,  385.,  834., 1302., 1442., 1516., 1332., 1043.,\n",
       "         751.,  501.,  320.,  182.,  127.,   64.,   44.,   15.,    7.,\n",
       "           3.,    2.]),\n",
       " array([0.19921928, 0.31627872, 0.43333815, 0.55039759, 0.66745702,\n",
       "        0.78451646, 0.90157589, 1.01863533, 1.13569476, 1.25275419,\n",
       "        1.36981363, 1.48687306, 1.6039325 , 1.72099193, 1.83805137,\n",
       "        1.9551108 , 2.07217024, 2.18922967, 2.30628911, 2.42334854,\n",
       "        2.54040798]),\n",
       " <BarContainer object of 20 artists>)"
      ]
     },
     "execution_count": 8,
     "metadata": {},
     "output_type": "execute_result"
    },
    {
     "data": {
      "image/png": "[encoded data removed]",
      "text/plain": [
       "<Figure size 432x288 with 1 Axes>"
      ]
     },
     "metadata": {
      "needs_background": "light"
     },
     "output_type": "display_data"
    }
   ],
   "source": [
    "# Your code\n",
    "k = 10000\n",
    "n = 10\n",
    "all_means = np.zeros(k)\n",
    "for i in range(0, k):\n",
    "    x = np.random.exponential(size=n)\n",
    "    all_means[i] = x.mean()\n",
    "    \n",
    "plt.hist(all_means, 20)"
   ]
  },
  {
   "cell_type": "markdown",
   "metadata": {},
   "source": [
    "## 3. Sampling Basketball Data\n",
    "\n",
    "We will now look in more detail at sampling from an observed dataset. At the end of this section we will have coded up one repetition of a statistical simulation.\n",
    "\n",
    "**Exercise 04:** Load the `player_data.csv` and `salary_data.cv` in the `datasets` folder as `player_data` and `salary_data`, respectively. Look at the top five entries. Then combine the data sets into one data set `full_data`. Normalize the salary column, such that the salary is stored in millions."
   ]
  },
  {
   "cell_type": "code",
   "execution_count": 9,
   "metadata": {},
   "outputs": [
    {
     "data": {
      "text/html": [
       "<div>\n",
       "<style scoped>\n",
       "    .dataframe tbody tr th:only-of-type {\n",
       "        vertical-align: middle;\n",
       "    }\n",
       "\n",
       "    .dataframe tbody tr th {\n",
       "        vertical-align: top;\n",
       "    }\n",
       "\n",
       "    .dataframe thead th {\n",
       "        text-align: right;\n",
       "    }\n",
       "</style>\n",
       "<table border=\"1\" class=\"dataframe\">\n",
       "  <thead>\n",
       "    <tr style=\"text-align: right;\">\n",
       "      <th></th>\n",
       "      <th>Name</th>\n",
       "      <th>Age</th>\n",
       "      <th>Team</th>\n",
       "      <th>Games</th>\n",
       "      <th>Rebounds</th>\n",
       "      <th>Assists</th>\n",
       "      <th>Steals</th>\n",
       "      <th>Blocks</th>\n",
       "      <th>Turnovers</th>\n",
       "      <th>Points</th>\n",
       "    </tr>\n",
       "  </thead>\n",
       "  <tbody>\n",
       "    <tr>\n",
       "      <th>0</th>\n",
       "      <td>James Harden</td>\n",
       "      <td>25</td>\n",
       "      <td>HOU</td>\n",
       "      <td>81</td>\n",
       "      <td>459</td>\n",
       "      <td>565</td>\n",
       "      <td>154</td>\n",
       "      <td>60</td>\n",
       "      <td>321</td>\n",
       "      <td>2217</td>\n",
       "    </tr>\n",
       "    <tr>\n",
       "      <th>1</th>\n",
       "      <td>Chris Paul</td>\n",
       "      <td>29</td>\n",
       "      <td>LAC</td>\n",
       "      <td>82</td>\n",
       "      <td>376</td>\n",
       "      <td>838</td>\n",
       "      <td>156</td>\n",
       "      <td>15</td>\n",
       "      <td>190</td>\n",
       "      <td>1564</td>\n",
       "    </tr>\n",
       "    <tr>\n",
       "      <th>2</th>\n",
       "      <td>Stephen Curry</td>\n",
       "      <td>26</td>\n",
       "      <td>GSW</td>\n",
       "      <td>80</td>\n",
       "      <td>341</td>\n",
       "      <td>619</td>\n",
       "      <td>163</td>\n",
       "      <td>16</td>\n",
       "      <td>249</td>\n",
       "      <td>1900</td>\n",
       "    </tr>\n",
       "  </tbody>\n",
       "</table>\n",
       "</div>"
      ],
      "text/plain": [
       "            Name  Age Team  Games  Rebounds  Assists  Steals  Blocks  \\\n",
       "0   James Harden   25  HOU     81       459      565     154      60   \n",
       "1     Chris Paul   29  LAC     82       376      838     156      15   \n",
       "2  Stephen Curry   26  GSW     80       341      619     163      16   \n",
       "\n",
       "   Turnovers  Points  \n",
       "0        321    2217  \n",
       "1        190    1564  \n",
       "2        249    1900  "
      ]
     },
     "execution_count": 9,
     "metadata": {},
     "output_type": "execute_result"
    }
   ],
   "source": [
    "# Your code\n",
    "player_data = pd.read_csv(\"player_data.csv\")\n",
    "salary_data = pd.read_csv(\"salary_data.csv\")\n",
    "player_data.head(3)"
   ]
  },
  {
   "cell_type": "code",
   "execution_count": 10,
   "metadata": {},
   "outputs": [
    {
     "data": {
      "text/html": [
       "<div>\n",
       "<style scoped>\n",
       "    .dataframe tbody tr th:only-of-type {\n",
       "        vertical-align: middle;\n",
       "    }\n",
       "\n",
       "    .dataframe tbody tr th {\n",
       "        vertical-align: top;\n",
       "    }\n",
       "\n",
       "    .dataframe thead th {\n",
       "        text-align: right;\n",
       "    }\n",
       "</style>\n",
       "<table border=\"1\" class=\"dataframe\">\n",
       "  <thead>\n",
       "    <tr style=\"text-align: right;\">\n",
       "      <th></th>\n",
       "      <th>PlayerName</th>\n",
       "      <th>Salary</th>\n",
       "    </tr>\n",
       "  </thead>\n",
       "  <tbody>\n",
       "    <tr>\n",
       "      <th>0</th>\n",
       "      <td>Kobe Bryant</td>\n",
       "      <td>23500000</td>\n",
       "    </tr>\n",
       "    <tr>\n",
       "      <th>1</th>\n",
       "      <td>Amar'e Stoudemire</td>\n",
       "      <td>23410988</td>\n",
       "    </tr>\n",
       "    <tr>\n",
       "      <th>2</th>\n",
       "      <td>Joe Johnson</td>\n",
       "      <td>23180790</td>\n",
       "    </tr>\n",
       "  </tbody>\n",
       "</table>\n",
       "</div>"
      ],
      "text/plain": [
       "          PlayerName    Salary\n",
       "0        Kobe Bryant  23500000\n",
       "1  Amar'e Stoudemire  23410988\n",
       "2        Joe Johnson  23180790"
      ]
     },
     "execution_count": 10,
     "metadata": {},
     "output_type": "execute_result"
    }
   ],
   "source": [
    "salary_data.head(3)"
   ]
  },
  {
   "cell_type": "code",
   "execution_count": 11,
   "metadata": {},
   "outputs": [
    {
     "data": {
      "text/html": [
       "<div>\n",
       "<style scoped>\n",
       "    .dataframe tbody tr th:only-of-type {\n",
       "        vertical-align: middle;\n",
       "    }\n",
       "\n",
       "    .dataframe tbody tr th {\n",
       "        vertical-align: top;\n",
       "    }\n",
       "\n",
       "    .dataframe thead th {\n",
       "        text-align: right;\n",
       "    }\n",
       "</style>\n",
       "<table border=\"1\" class=\"dataframe\">\n",
       "  <thead>\n",
       "    <tr style=\"text-align: right;\">\n",
       "      <th></th>\n",
       "      <th>PlayerName</th>\n",
       "      <th>Salary</th>\n",
       "      <th>Name</th>\n",
       "      <th>Age</th>\n",
       "      <th>Team</th>\n",
       "      <th>Games</th>\n",
       "      <th>Rebounds</th>\n",
       "      <th>Assists</th>\n",
       "      <th>Steals</th>\n",
       "      <th>Blocks</th>\n",
       "      <th>Turnovers</th>\n",
       "      <th>Points</th>\n",
       "    </tr>\n",
       "  </thead>\n",
       "  <tbody>\n",
       "    <tr>\n",
       "      <th>0</th>\n",
       "      <td>Kobe Bryant</td>\n",
       "      <td>23.500000</td>\n",
       "      <td>Kobe Bryant</td>\n",
       "      <td>36</td>\n",
       "      <td>LAL</td>\n",
       "      <td>35</td>\n",
       "      <td>199</td>\n",
       "      <td>197</td>\n",
       "      <td>47</td>\n",
       "      <td>7</td>\n",
       "      <td>128</td>\n",
       "      <td>782</td>\n",
       "    </tr>\n",
       "    <tr>\n",
       "      <th>1</th>\n",
       "      <td>Amar'e Stoudemire</td>\n",
       "      <td>23.410988</td>\n",
       "      <td>Amar'e Stoudemire</td>\n",
       "      <td>32</td>\n",
       "      <td>TOT</td>\n",
       "      <td>59</td>\n",
       "      <td>329</td>\n",
       "      <td>45</td>\n",
       "      <td>29</td>\n",
       "      <td>38</td>\n",
       "      <td>78</td>\n",
       "      <td>680</td>\n",
       "    </tr>\n",
       "    <tr>\n",
       "      <th>2</th>\n",
       "      <td>Joe Johnson</td>\n",
       "      <td>23.180790</td>\n",
       "      <td>Joe Johnson</td>\n",
       "      <td>33</td>\n",
       "      <td>BRK</td>\n",
       "      <td>80</td>\n",
       "      <td>384</td>\n",
       "      <td>292</td>\n",
       "      <td>59</td>\n",
       "      <td>14</td>\n",
       "      <td>137</td>\n",
       "      <td>1154</td>\n",
       "    </tr>\n",
       "  </tbody>\n",
       "</table>\n",
       "</div>"
      ],
      "text/plain": [
       "          PlayerName     Salary               Name  Age Team  Games  Rebounds  \\\n",
       "0        Kobe Bryant  23.500000        Kobe Bryant   36  LAL     35       199   \n",
       "1  Amar'e Stoudemire  23.410988  Amar'e Stoudemire   32  TOT     59       329   \n",
       "2        Joe Johnson  23.180790        Joe Johnson   33  BRK     80       384   \n",
       "\n",
       "   Assists  Steals  Blocks  Turnovers  Points  \n",
       "0      197      47       7        128     782  \n",
       "1       45      29      38         78     680  \n",
       "2      292      59      14        137    1154  "
      ]
     },
     "execution_count": 11,
     "metadata": {},
     "output_type": "execute_result"
    }
   ],
   "source": [
    "full_data = pd.merge(salary_data, player_data, \n",
    "                     left_on=\"PlayerName\", right_on=\"Name\")\n",
    "full_data['Salary']=full_data['Salary']/1000000\n",
    "full_data.head(3)"
   ]
  },
  {
   "cell_type": "markdown",
   "metadata": {},
   "source": [
    "Rather than getting data on every player (as in the tables loaded above), imagine that we had got data on only a smaller subset of the players. For 492 players, it's not so unreasonable to expect to see all the data, but usually we aren't so lucky. \n",
    "\n",
    "If we want to make estimates about a certain numerical property of the population (known as a statistic, e.g. the mean or median), we may have to come up with these estimates based only on a smaller sample. Whether these estimates are useful or not often depends on how the sample was gathered. We have prepared some example sample datasets to see how they compare to the full NBA dataset. Later we'll ask you to create your own samples to see how they behave.\n",
    "\n",
    "To save typing and increase the clarity of your code, we will package the analysis code into a few functions. This will be useful in the rest of the lab as we will repeatedly need to create histograms and collect summary statistics from that data.\n",
    "\n",
    "We've defined the `histograms` function below, which takes a data frame with columns `Age` and `Salary` and draws a histogram for each one. It uses bin widths of 1 year for `Age` and $1,000,000 for `Salary`.\n",
    "**[DCS comment: We are going to get the students to write this function.]**"
   ]
  },
  {
   "cell_type": "code",
   "execution_count": 12,
   "metadata": {},
   "outputs": [
    {
     "data": {
      "image/png": "[encoded data removed]",
      "text/plain": [
       "<Figure size 432x288 with 2 Axes>"
      ]
     },
     "metadata": {
      "needs_background": "light"
     },
     "output_type": "display_data"
    }
   ],
   "source": [
    "def histograms(df):\n",
    "    age_bins = np.arange(min(df['Age']), max(df['Age']), 1)\n",
    "    salary_bins = np.arange(min(df['Salary']), max(df['Salary']), 1)\n",
    "    fig, (ax1, ax2) = plt.subplots(1, 2, figsize=(6, 4))\n",
    "    ax1.hist(df['Age'], bins=age_bins)\n",
    "    ax1.set_xlabel('Age (year)')\n",
    "    ax1.set_title('Age distribution')\n",
    "    ax2.hist(df['Salary'], bins=salary_bins)\n",
    "    ax2.set_xlabel('Salary (million dollars)')\n",
    "    ax2.set_title('Salary distribution') \n",
    "    plt.tight_layout()\n",
    "    \n",
    "histograms(full_data)"
   ]
  },
  {
   "cell_type": "markdown",
   "metadata": {},
   "source": [
    "**Exercise 05:** Create a function called `compute_statistics` that takes a data frame containing ages and salaries and:\n",
    "- Draws a histogram of ages\n",
    "- Draws a histogram of salaries\n",
    "- Returns a pandas Series containing the mean age and mean salary\n",
    "\n",
    "You can call the `histograms` function to draw the histograms!"
   ]
  },
  {
   "cell_type": "code",
   "execution_count": 13,
   "metadata": {},
   "outputs": [],
   "source": [
    "# Template\n",
    "def compute_statistics(age_and_salary_data):\n",
    "    ...\n",
    "    age = ...\n",
    "    salary = ...\n",
    "    ...\n",
    "    \n",
    "\n",
    "full_stats = compute_statistics(full_data)\n",
    "full_stats"
   ]
  },
  {
   "cell_type": "code",
   "execution_count": 14,
   "metadata": {},
   "outputs": [
    {
     "data": {
      "text/plain": [
       "[26.536585365853657, 4.269775766260162]"
      ]
     },
     "execution_count": 14,
     "metadata": {},
     "output_type": "execute_result"
    },
    {
     "data": {
      "image/png": "[encoded data removed]",
      "text/plain": [
       "<Figure size 432x288 with 2 Axes>"
      ]
     },
     "metadata": {
      "needs_background": "light"
     },
     "output_type": "display_data"
    }
   ],
   "source": [
    "# Your code\n",
    "def compute_statistics(age_and_salary_data):\n",
    "    histograms(age_and_salary_data)\n",
    "    return([age_and_salary_data['Age'].mean(),\n",
    "            age_and_salary_data['Salary'].mean()])    \n",
    "\n",
    "full_stats = compute_statistics(full_data)\n",
    "full_stats"
   ]
  },
  {
   "cell_type": "markdown",
   "metadata": {},
   "source": [
    "### Convenience sampling\n",
    "One sampling methodology, which is **generally a bad idea**, is to choose players who are somehow convenient to sample.  For example, you might choose players from one team who are near your house, since it's easier to survey them.  This is called, somewhat pejoratively, *convenience sampling*.\n",
    "\n",
    "Suppose you survey only *relatively new* players with ages less than 22.  (The more experienced players didn't bother to answer your surveys about their salaries.)\n",
    "\n",
    "**Exercise 06:**  \n",
    "- Create a copy of the full data frame containing only players under the age of 22 and call it `convenience_sample`.\n",
    "- Use the `compute_statistics` function on the new data frame and store the results in `convenience_stats`.  \n",
    "\n",
    "Since they're computed on a sample, these are called *sample averages*. "
   ]
  },
  {
   "cell_type": "code",
   "execution_count": 15,
   "metadata": {},
   "outputs": [
    {
     "data": {
      "text/html": [
       "<div>\n",
       "<style scoped>\n",
       "    .dataframe tbody tr th:only-of-type {\n",
       "        vertical-align: middle;\n",
       "    }\n",
       "\n",
       "    .dataframe tbody tr th {\n",
       "        vertical-align: top;\n",
       "    }\n",
       "\n",
       "    .dataframe thead th {\n",
       "        text-align: right;\n",
       "    }\n",
       "</style>\n",
       "<table border=\"1\" class=\"dataframe\">\n",
       "  <thead>\n",
       "    <tr style=\"text-align: right;\">\n",
       "      <th></th>\n",
       "      <th>PlayerName</th>\n",
       "      <th>Salary</th>\n",
       "      <th>Name</th>\n",
       "      <th>Age</th>\n",
       "      <th>Team</th>\n",
       "      <th>Games</th>\n",
       "      <th>Rebounds</th>\n",
       "      <th>Assists</th>\n",
       "      <th>Steals</th>\n",
       "      <th>Blocks</th>\n",
       "      <th>Turnovers</th>\n",
       "      <th>Points</th>\n",
       "    </tr>\n",
       "  </thead>\n",
       "  <tbody>\n",
       "    <tr>\n",
       "      <th>124</th>\n",
       "      <td>Anthony Davis</td>\n",
       "      <td>5.607240</td>\n",
       "      <td>Anthony Davis</td>\n",
       "      <td>21</td>\n",
       "      <td>NOP</td>\n",
       "      <td>68</td>\n",
       "      <td>696</td>\n",
       "      <td>149</td>\n",
       "      <td>100</td>\n",
       "      <td>200</td>\n",
       "      <td>95</td>\n",
       "      <td>1656</td>\n",
       "    </tr>\n",
       "    <tr>\n",
       "      <th>125</th>\n",
       "      <td>Anthony Bennett</td>\n",
       "      <td>5.563920</td>\n",
       "      <td>Anthony Bennett</td>\n",
       "      <td>21</td>\n",
       "      <td>MIN</td>\n",
       "      <td>57</td>\n",
       "      <td>216</td>\n",
       "      <td>48</td>\n",
       "      <td>27</td>\n",
       "      <td>16</td>\n",
       "      <td>36</td>\n",
       "      <td>298</td>\n",
       "    </tr>\n",
       "    <tr>\n",
       "      <th>126</th>\n",
       "      <td>Andrew Wiggins</td>\n",
       "      <td>5.510640</td>\n",
       "      <td>Andrew Wiggins</td>\n",
       "      <td>19</td>\n",
       "      <td>MIN</td>\n",
       "      <td>82</td>\n",
       "      <td>374</td>\n",
       "      <td>170</td>\n",
       "      <td>86</td>\n",
       "      <td>50</td>\n",
       "      <td>177</td>\n",
       "      <td>1387</td>\n",
       "    </tr>\n",
       "    <tr>\n",
       "      <th>141</th>\n",
       "      <td>Michael Kidd-Gilchrist</td>\n",
       "      <td>5.016960</td>\n",
       "      <td>Michael Kidd-Gilchrist</td>\n",
       "      <td>21</td>\n",
       "      <td>CHO</td>\n",
       "      <td>55</td>\n",
       "      <td>416</td>\n",
       "      <td>77</td>\n",
       "      <td>30</td>\n",
       "      <td>38</td>\n",
       "      <td>63</td>\n",
       "      <td>598</td>\n",
       "    </tr>\n",
       "    <tr>\n",
       "      <th>147</th>\n",
       "      <td>Jabari Parker</td>\n",
       "      <td>4.930560</td>\n",
       "      <td>Jabari Parker</td>\n",
       "      <td>19</td>\n",
       "      <td>MIL</td>\n",
       "      <td>25</td>\n",
       "      <td>138</td>\n",
       "      <td>42</td>\n",
       "      <td>31</td>\n",
       "      <td>5</td>\n",
       "      <td>47</td>\n",
       "      <td>308</td>\n",
       "    </tr>\n",
       "    <tr>\n",
       "      <th>155</th>\n",
       "      <td>Bradley Beal</td>\n",
       "      <td>4.505280</td>\n",
       "      <td>Bradley Beal</td>\n",
       "      <td>21</td>\n",
       "      <td>WAS</td>\n",
       "      <td>63</td>\n",
       "      <td>241</td>\n",
       "      <td>194</td>\n",
       "      <td>76</td>\n",
       "      <td>18</td>\n",
       "      <td>123</td>\n",
       "      <td>962</td>\n",
       "    </tr>\n",
       "    <tr>\n",
       "      <th>159</th>\n",
       "      <td>Otto Porter</td>\n",
       "      <td>4.470480</td>\n",
       "      <td>Otto Porter</td>\n",
       "      <td>21</td>\n",
       "      <td>WAS</td>\n",
       "      <td>74</td>\n",
       "      <td>221</td>\n",
       "      <td>65</td>\n",
       "      <td>44</td>\n",
       "      <td>30</td>\n",
       "      <td>52</td>\n",
       "      <td>445</td>\n",
       "    </tr>\n",
       "    <tr>\n",
       "      <th>170</th>\n",
       "      <td>Aaron Gordon</td>\n",
       "      <td>3.992040</td>\n",
       "      <td>Aaron Gordon</td>\n",
       "      <td>19</td>\n",
       "      <td>ORL</td>\n",
       "      <td>47</td>\n",
       "      <td>169</td>\n",
       "      <td>33</td>\n",
       "      <td>21</td>\n",
       "      <td>22</td>\n",
       "      <td>38</td>\n",
       "      <td>243</td>\n",
       "    </tr>\n",
       "    <tr>\n",
       "      <th>183</th>\n",
       "      <td>Alex Len</td>\n",
       "      <td>3.649920</td>\n",
       "      <td>Alex Len</td>\n",
       "      <td>21</td>\n",
       "      <td>PHO</td>\n",
       "      <td>69</td>\n",
       "      <td>454</td>\n",
       "      <td>32</td>\n",
       "      <td>34</td>\n",
       "      <td>105</td>\n",
       "      <td>74</td>\n",
       "      <td>432</td>\n",
       "    </tr>\n",
       "    <tr>\n",
       "      <th>184</th>\n",
       "      <td>Dante Exum</td>\n",
       "      <td>3.615000</td>\n",
       "      <td>Dante Exum</td>\n",
       "      <td>19</td>\n",
       "      <td>UTA</td>\n",
       "      <td>82</td>\n",
       "      <td>131</td>\n",
       "      <td>198</td>\n",
       "      <td>41</td>\n",
       "      <td>14</td>\n",
       "      <td>118</td>\n",
       "      <td>393</td>\n",
       "    </tr>\n",
       "    <tr>\n",
       "      <th>196</th>\n",
       "      <td>Nerlens Noel</td>\n",
       "      <td>3.315120</td>\n",
       "      <td>Nerlens Noel</td>\n",
       "      <td>20</td>\n",
       "      <td>PHI</td>\n",
       "      <td>75</td>\n",
       "      <td>611</td>\n",
       "      <td>128</td>\n",
       "      <td>133</td>\n",
       "      <td>142</td>\n",
       "      <td>146</td>\n",
       "      <td>744</td>\n",
       "    </tr>\n",
       "    <tr>\n",
       "      <th>197</th>\n",
       "      <td>Marcus Smart</td>\n",
       "      <td>3.283320</td>\n",
       "      <td>Marcus Smart</td>\n",
       "      <td>20</td>\n",
       "      <td>BOS</td>\n",
       "      <td>67</td>\n",
       "      <td>222</td>\n",
       "      <td>208</td>\n",
       "      <td>99</td>\n",
       "      <td>18</td>\n",
       "      <td>90</td>\n",
       "      <td>523</td>\n",
       "    </tr>\n",
       "    <tr>\n",
       "      <th>213</th>\n",
       "      <td>Ben McLemore</td>\n",
       "      <td>3.026280</td>\n",
       "      <td>Ben McLemore</td>\n",
       "      <td>21</td>\n",
       "      <td>SAC</td>\n",
       "      <td>82</td>\n",
       "      <td>241</td>\n",
       "      <td>140</td>\n",
       "      <td>77</td>\n",
       "      <td>19</td>\n",
       "      <td>138</td>\n",
       "      <td>996</td>\n",
       "    </tr>\n",
       "    <tr>\n",
       "      <th>219</th>\n",
       "      <td>Julius Randle</td>\n",
       "      <td>2.997360</td>\n",
       "      <td>Julius Randle</td>\n",
       "      <td>20</td>\n",
       "      <td>LAL</td>\n",
       "      <td>1</td>\n",
       "      <td>0</td>\n",
       "      <td>0</td>\n",
       "      <td>0</td>\n",
       "      <td>0</td>\n",
       "      <td>1</td>\n",
       "      <td>2</td>\n",
       "    </tr>\n",
       "    <tr>\n",
       "      <th>226</th>\n",
       "      <td>Kentavious Caldwell-Pope</td>\n",
       "      <td>2.772480</td>\n",
       "      <td>Kentavious Caldwell-Pope</td>\n",
       "      <td>21</td>\n",
       "      <td>DET</td>\n",
       "      <td>82</td>\n",
       "      <td>255</td>\n",
       "      <td>109</td>\n",
       "      <td>93</td>\n",
       "      <td>18</td>\n",
       "      <td>94</td>\n",
       "      <td>1043</td>\n",
       "    </tr>\n",
       "    <tr>\n",
       "      <th>229</th>\n",
       "      <td>Nik Stauskas</td>\n",
       "      <td>2.745840</td>\n",
       "      <td>Nik Stauskas</td>\n",
       "      <td>21</td>\n",
       "      <td>SAC</td>\n",
       "      <td>73</td>\n",
       "      <td>88</td>\n",
       "      <td>67</td>\n",
       "      <td>20</td>\n",
       "      <td>17</td>\n",
       "      <td>40</td>\n",
       "      <td>319</td>\n",
       "    </tr>\n",
       "    <tr>\n",
       "      <th>236</th>\n",
       "      <td>Andre Drummond</td>\n",
       "      <td>2.568360</td>\n",
       "      <td>Andre Drummond</td>\n",
       "      <td>21</td>\n",
       "      <td>DET</td>\n",
       "      <td>82</td>\n",
       "      <td>1104</td>\n",
       "      <td>55</td>\n",
       "      <td>73</td>\n",
       "      <td>153</td>\n",
       "      <td>120</td>\n",
       "      <td>1130</td>\n",
       "    </tr>\n",
       "    <tr>\n",
       "      <th>238</th>\n",
       "      <td>Noah Vonleh</td>\n",
       "      <td>2.524200</td>\n",
       "      <td>Noah Vonleh</td>\n",
       "      <td>19</td>\n",
       "      <td>CHO</td>\n",
       "      <td>25</td>\n",
       "      <td>86</td>\n",
       "      <td>4</td>\n",
       "      <td>4</td>\n",
       "      <td>9</td>\n",
       "      <td>11</td>\n",
       "      <td>83</td>\n",
       "    </tr>\n",
       "    <tr>\n",
       "      <th>244</th>\n",
       "      <td>Elfrid Payton</td>\n",
       "      <td>2.397840</td>\n",
       "      <td>Elfrid Payton</td>\n",
       "      <td>20</td>\n",
       "      <td>ORL</td>\n",
       "      <td>82</td>\n",
       "      <td>349</td>\n",
       "      <td>533</td>\n",
       "      <td>142</td>\n",
       "      <td>20</td>\n",
       "      <td>203</td>\n",
       "      <td>731</td>\n",
       "    </tr>\n",
       "    <tr>\n",
       "      <th>254</th>\n",
       "      <td>Steven Adams</td>\n",
       "      <td>2.184960</td>\n",
       "      <td>Steven Adams</td>\n",
       "      <td>21</td>\n",
       "      <td>OKC</td>\n",
       "      <td>70</td>\n",
       "      <td>523</td>\n",
       "      <td>66</td>\n",
       "      <td>38</td>\n",
       "      <td>86</td>\n",
       "      <td>99</td>\n",
       "      <td>537</td>\n",
       "    </tr>\n",
       "    <tr>\n",
       "      <th>264</th>\n",
       "      <td>Zach LaVine</td>\n",
       "      <td>2.055840</td>\n",
       "      <td>Zach LaVine</td>\n",
       "      <td>19</td>\n",
       "      <td>MIN</td>\n",
       "      <td>77</td>\n",
       "      <td>214</td>\n",
       "      <td>276</td>\n",
       "      <td>54</td>\n",
       "      <td>10</td>\n",
       "      <td>193</td>\n",
       "      <td>778</td>\n",
       "    </tr>\n",
       "    <tr>\n",
       "      <th>274</th>\n",
       "      <td>T.J. Warren</td>\n",
       "      <td>1.953120</td>\n",
       "      <td>T.J. Warren</td>\n",
       "      <td>21</td>\n",
       "      <td>PHO</td>\n",
       "      <td>40</td>\n",
       "      <td>85</td>\n",
       "      <td>25</td>\n",
       "      <td>18</td>\n",
       "      <td>9</td>\n",
       "      <td>27</td>\n",
       "      <td>245</td>\n",
       "    </tr>\n",
       "    <tr>\n",
       "      <th>275</th>\n",
       "      <td>Maurice Harkless</td>\n",
       "      <td>1.887840</td>\n",
       "      <td>Maurice Harkless</td>\n",
       "      <td>21</td>\n",
       "      <td>ORL</td>\n",
       "      <td>45</td>\n",
       "      <td>106</td>\n",
       "      <td>25</td>\n",
       "      <td>32</td>\n",
       "      <td>9</td>\n",
       "      <td>27</td>\n",
       "      <td>158</td>\n",
       "    </tr>\n",
       "    <tr>\n",
       "      <th>276</th>\n",
       "      <td>Giannis Antetokounmpo</td>\n",
       "      <td>1.873200</td>\n",
       "      <td>Giannis Antetokounmpo</td>\n",
       "      <td>20</td>\n",
       "      <td>MIL</td>\n",
       "      <td>81</td>\n",
       "      <td>542</td>\n",
       "      <td>207</td>\n",
       "      <td>73</td>\n",
       "      <td>85</td>\n",
       "      <td>173</td>\n",
       "      <td>1030</td>\n",
       "    </tr>\n",
       "    <tr>\n",
       "      <th>282</th>\n",
       "      <td>Jusuf Nurkic</td>\n",
       "      <td>1.762680</td>\n",
       "      <td>Jusuf Nurkic</td>\n",
       "      <td>20</td>\n",
       "      <td>DEN</td>\n",
       "      <td>62</td>\n",
       "      <td>382</td>\n",
       "      <td>50</td>\n",
       "      <td>52</td>\n",
       "      <td>68</td>\n",
       "      <td>86</td>\n",
       "      <td>426</td>\n",
       "    </tr>\n",
       "    <tr>\n",
       "      <th>286</th>\n",
       "      <td>Dennis Schroder</td>\n",
       "      <td>1.690680</td>\n",
       "      <td>Dennis Schroder</td>\n",
       "      <td>21</td>\n",
       "      <td>ATL</td>\n",
       "      <td>77</td>\n",
       "      <td>164</td>\n",
       "      <td>317</td>\n",
       "      <td>49</td>\n",
       "      <td>4</td>\n",
       "      <td>150</td>\n",
       "      <td>768</td>\n",
       "    </tr>\n",
       "    <tr>\n",
       "      <th>287</th>\n",
       "      <td>James Young</td>\n",
       "      <td>1.674480</td>\n",
       "      <td>James Young</td>\n",
       "      <td>19</td>\n",
       "      <td>BOS</td>\n",
       "      <td>31</td>\n",
       "      <td>42</td>\n",
       "      <td>13</td>\n",
       "      <td>8</td>\n",
       "      <td>2</td>\n",
       "      <td>5</td>\n",
       "      <td>105</td>\n",
       "    </tr>\n",
       "    <tr>\n",
       "      <th>292</th>\n",
       "      <td>Tyler Ennis</td>\n",
       "      <td>1.590720</td>\n",
       "      <td>Tyler Ennis</td>\n",
       "      <td>20</td>\n",
       "      <td>TOT</td>\n",
       "      <td>33</td>\n",
       "      <td>35</td>\n",
       "      <td>73</td>\n",
       "      <td>18</td>\n",
       "      <td>5</td>\n",
       "      <td>42</td>\n",
       "      <td>121</td>\n",
       "    </tr>\n",
       "    <tr>\n",
       "      <th>294</th>\n",
       "      <td>Sergey Karasev</td>\n",
       "      <td>1.533840</td>\n",
       "      <td>Sergey Karasev</td>\n",
       "      <td>21</td>\n",
       "      <td>BRK</td>\n",
       "      <td>33</td>\n",
       "      <td>66</td>\n",
       "      <td>46</td>\n",
       "      <td>23</td>\n",
       "      <td>1</td>\n",
       "      <td>24</td>\n",
       "      <td>153</td>\n",
       "    </tr>\n",
       "    <tr>\n",
       "      <th>295</th>\n",
       "      <td>Gary Harris</td>\n",
       "      <td>1.519200</td>\n",
       "      <td>Gary Harris</td>\n",
       "      <td>20</td>\n",
       "      <td>DEN</td>\n",
       "      <td>55</td>\n",
       "      <td>64</td>\n",
       "      <td>29</td>\n",
       "      <td>39</td>\n",
       "      <td>7</td>\n",
       "      <td>38</td>\n",
       "      <td>188</td>\n",
       "    </tr>\n",
       "    <tr>\n",
       "      <th>300</th>\n",
       "      <td>Bruno Caboclo</td>\n",
       "      <td>1.458360</td>\n",
       "      <td>Bruno Caboclo</td>\n",
       "      <td>19</td>\n",
       "      <td>TOR</td>\n",
       "      <td>8</td>\n",
       "      <td>2</td>\n",
       "      <td>0</td>\n",
       "      <td>0</td>\n",
       "      <td>1</td>\n",
       "      <td>4</td>\n",
       "      <td>10</td>\n",
       "    </tr>\n",
       "    <tr>\n",
       "      <th>316</th>\n",
       "      <td>Jordan Adams</td>\n",
       "      <td>1.344120</td>\n",
       "      <td>Jordan Adams</td>\n",
       "      <td>20</td>\n",
       "      <td>MEM</td>\n",
       "      <td>30</td>\n",
       "      <td>28</td>\n",
       "      <td>16</td>\n",
       "      <td>16</td>\n",
       "      <td>7</td>\n",
       "      <td>14</td>\n",
       "      <td>94</td>\n",
       "    </tr>\n",
       "    <tr>\n",
       "      <th>336</th>\n",
       "      <td>Tony Wroten</td>\n",
       "      <td>1.210080</td>\n",
       "      <td>Tony Wroten</td>\n",
       "      <td>21</td>\n",
       "      <td>PHI</td>\n",
       "      <td>30</td>\n",
       "      <td>86</td>\n",
       "      <td>157</td>\n",
       "      <td>48</td>\n",
       "      <td>8</td>\n",
       "      <td>113</td>\n",
       "      <td>507</td>\n",
       "    </tr>\n",
       "    <tr>\n",
       "      <th>338</th>\n",
       "      <td>Clint Capela</td>\n",
       "      <td>1.189200</td>\n",
       "      <td>Clint Capela</td>\n",
       "      <td>20</td>\n",
       "      <td>HOU</td>\n",
       "      <td>12</td>\n",
       "      <td>36</td>\n",
       "      <td>2</td>\n",
       "      <td>1</td>\n",
       "      <td>9</td>\n",
       "      <td>5</td>\n",
       "      <td>32</td>\n",
       "    </tr>\n",
       "    <tr>\n",
       "      <th>348</th>\n",
       "      <td>Archie Goodwin</td>\n",
       "      <td>1.112280</td>\n",
       "      <td>Archie Goodwin</td>\n",
       "      <td>20</td>\n",
       "      <td>PHO</td>\n",
       "      <td>41</td>\n",
       "      <td>74</td>\n",
       "      <td>44</td>\n",
       "      <td>18</td>\n",
       "      <td>9</td>\n",
       "      <td>48</td>\n",
       "      <td>231</td>\n",
       "    </tr>\n",
       "    <tr>\n",
       "      <th>352</th>\n",
       "      <td>Kyle Anderson</td>\n",
       "      <td>1.093680</td>\n",
       "      <td>Kyle Anderson</td>\n",
       "      <td>21</td>\n",
       "      <td>SAS</td>\n",
       "      <td>33</td>\n",
       "      <td>72</td>\n",
       "      <td>28</td>\n",
       "      <td>15</td>\n",
       "      <td>7</td>\n",
       "      <td>10</td>\n",
       "      <td>74</td>\n",
       "    </tr>\n",
       "    <tr>\n",
       "      <th>396</th>\n",
       "      <td>Jerami Grant</td>\n",
       "      <td>0.884879</td>\n",
       "      <td>Jerami Grant</td>\n",
       "      <td>20</td>\n",
       "      <td>PHI</td>\n",
       "      <td>65</td>\n",
       "      <td>198</td>\n",
       "      <td>79</td>\n",
       "      <td>40</td>\n",
       "      <td>68</td>\n",
       "      <td>85</td>\n",
       "      <td>411</td>\n",
       "    </tr>\n",
       "    <tr>\n",
       "      <th>421</th>\n",
       "      <td>Grant Jerrett</td>\n",
       "      <td>0.816481</td>\n",
       "      <td>Grant Jerrett</td>\n",
       "      <td>21</td>\n",
       "      <td>TOT</td>\n",
       "      <td>8</td>\n",
       "      <td>9</td>\n",
       "      <td>3</td>\n",
       "      <td>2</td>\n",
       "      <td>2</td>\n",
       "      <td>3</td>\n",
       "      <td>16</td>\n",
       "    </tr>\n",
       "    <tr>\n",
       "      <th>424</th>\n",
       "      <td>Jarnell Stokes</td>\n",
       "      <td>0.725000</td>\n",
       "      <td>Jarnell Stokes</td>\n",
       "      <td>21</td>\n",
       "      <td>MEM</td>\n",
       "      <td>19</td>\n",
       "      <td>34</td>\n",
       "      <td>4</td>\n",
       "      <td>5</td>\n",
       "      <td>5</td>\n",
       "      <td>7</td>\n",
       "      <td>57</td>\n",
       "    </tr>\n",
       "    <tr>\n",
       "      <th>426</th>\n",
       "      <td>Spencer Dinwiddie</td>\n",
       "      <td>0.700000</td>\n",
       "      <td>Spencer Dinwiddie</td>\n",
       "      <td>21</td>\n",
       "      <td>DET</td>\n",
       "      <td>34</td>\n",
       "      <td>48</td>\n",
       "      <td>104</td>\n",
       "      <td>19</td>\n",
       "      <td>6</td>\n",
       "      <td>33</td>\n",
       "      <td>145</td>\n",
       "    </tr>\n",
       "    <tr>\n",
       "      <th>429</th>\n",
       "      <td>Johnny O'Bryant</td>\n",
       "      <td>0.600000</td>\n",
       "      <td>Johnny O'Bryant</td>\n",
       "      <td>21</td>\n",
       "      <td>MIL</td>\n",
       "      <td>34</td>\n",
       "      <td>64</td>\n",
       "      <td>17</td>\n",
       "      <td>5</td>\n",
       "      <td>4</td>\n",
       "      <td>25</td>\n",
       "      <td>100</td>\n",
       "    </tr>\n",
       "    <tr>\n",
       "      <th>435</th>\n",
       "      <td>K.J. McDaniels</td>\n",
       "      <td>0.507336</td>\n",
       "      <td>K.J. McDaniels</td>\n",
       "      <td>21</td>\n",
       "      <td>TOT</td>\n",
       "      <td>62</td>\n",
       "      <td>200</td>\n",
       "      <td>72</td>\n",
       "      <td>44</td>\n",
       "      <td>70</td>\n",
       "      <td>105</td>\n",
       "      <td>487</td>\n",
       "    </tr>\n",
       "    <tr>\n",
       "      <th>437</th>\n",
       "      <td>JaKarr Sampson</td>\n",
       "      <td>0.507336</td>\n",
       "      <td>JaKarr Sampson</td>\n",
       "      <td>21</td>\n",
       "      <td>PHI</td>\n",
       "      <td>74</td>\n",
       "      <td>163</td>\n",
       "      <td>77</td>\n",
       "      <td>38</td>\n",
       "      <td>26</td>\n",
       "      <td>76</td>\n",
       "      <td>386</td>\n",
       "    </tr>\n",
       "    <tr>\n",
       "      <th>440</th>\n",
       "      <td>Glenn Robinson III</td>\n",
       "      <td>0.507336</td>\n",
       "      <td>Glenn Robinson III</td>\n",
       "      <td>21</td>\n",
       "      <td>TOT</td>\n",
       "      <td>35</td>\n",
       "      <td>39</td>\n",
       "      <td>11</td>\n",
       "      <td>6</td>\n",
       "      <td>1</td>\n",
       "      <td>11</td>\n",
       "      <td>73</td>\n",
       "    </tr>\n",
       "  </tbody>\n",
       "</table>\n",
       "</div>"
      ],
      "text/plain": [
       "                   PlayerName    Salary                      Name  Age Team  \\\n",
       "124             Anthony Davis  5.607240             Anthony Davis   21  NOP   \n",
       "125           Anthony Bennett  5.563920           Anthony Bennett   21  MIN   \n",
       "126            Andrew Wiggins  5.510640            Andrew Wiggins   19  MIN   \n",
       "141    Michael Kidd-Gilchrist  5.016960    Michael Kidd-Gilchrist   21  CHO   \n",
       "147             Jabari Parker  4.930560             Jabari Parker   19  MIL   \n",
       "155              Bradley Beal  4.505280              Bradley Beal   21  WAS   \n",
       "159               Otto Porter  4.470480               Otto Porter   21  WAS   \n",
       "170              Aaron Gordon  3.992040              Aaron Gordon   19  ORL   \n",
       "183                  Alex Len  3.649920                  Alex Len   21  PHO   \n",
       "184                Dante Exum  3.615000                Dante Exum   19  UTA   \n",
       "196              Nerlens Noel  3.315120              Nerlens Noel   20  PHI   \n",
       "197              Marcus Smart  3.283320              Marcus Smart   20  BOS   \n",
       "213              Ben McLemore  3.026280              Ben McLemore   21  SAC   \n",
       "219             Julius Randle  2.997360             Julius Randle   20  LAL   \n",
       "226  Kentavious Caldwell-Pope  2.772480  Kentavious Caldwell-Pope   21  DET   \n",
       "229              Nik Stauskas  2.745840              Nik Stauskas   21  SAC   \n",
       "236            Andre Drummond  2.568360            Andre Drummond   21  DET   \n",
       "238               Noah Vonleh  2.524200               Noah Vonleh   19  CHO   \n",
       "244             Elfrid Payton  2.397840             Elfrid Payton   20  ORL   \n",
       "254              Steven Adams  2.184960              Steven Adams   21  OKC   \n",
       "264               Zach LaVine  2.055840               Zach LaVine   19  MIN   \n",
       "274               T.J. Warren  1.953120               T.J. Warren   21  PHO   \n",
       "275          Maurice Harkless  1.887840          Maurice Harkless   21  ORL   \n",
       "276     Giannis Antetokounmpo  1.873200     Giannis Antetokounmpo   20  MIL   \n",
       "282              Jusuf Nurkic  1.762680              Jusuf Nurkic   20  DEN   \n",
       "286           Dennis Schroder  1.690680           Dennis Schroder   21  ATL   \n",
       "287               James Young  1.674480               James Young   19  BOS   \n",
       "292               Tyler Ennis  1.590720               Tyler Ennis   20  TOT   \n",
       "294            Sergey Karasev  1.533840            Sergey Karasev   21  BRK   \n",
       "295               Gary Harris  1.519200               Gary Harris   20  DEN   \n",
       "300             Bruno Caboclo  1.458360             Bruno Caboclo   19  TOR   \n",
       "316              Jordan Adams  1.344120              Jordan Adams   20  MEM   \n",
       "336               Tony Wroten  1.210080               Tony Wroten   21  PHI   \n",
       "338              Clint Capela  1.189200              Clint Capela   20  HOU   \n",
       "348            Archie Goodwin  1.112280            Archie Goodwin   20  PHO   \n",
       "352             Kyle Anderson  1.093680             Kyle Anderson   21  SAS   \n",
       "396              Jerami Grant  0.884879              Jerami Grant   20  PHI   \n",
       "421             Grant Jerrett  0.816481             Grant Jerrett   21  TOT   \n",
       "424            Jarnell Stokes  0.725000            Jarnell Stokes   21  MEM   \n",
       "426         Spencer Dinwiddie  0.700000         Spencer Dinwiddie   21  DET   \n",
       "429           Johnny O'Bryant  0.600000           Johnny O'Bryant   21  MIL   \n",
       "435            K.J. McDaniels  0.507336            K.J. McDaniels   21  TOT   \n",
       "437            JaKarr Sampson  0.507336            JaKarr Sampson   21  PHI   \n",
       "440        Glenn Robinson III  0.507336        Glenn Robinson III   21  TOT   \n",
       "\n",
       "     Games  Rebounds  Assists  Steals  Blocks  Turnovers  Points  \n",
       "124     68       696      149     100     200         95    1656  \n",
       "125     57       216       48      27      16         36     298  \n",
       "126     82       374      170      86      50        177    1387  \n",
       "141     55       416       77      30      38         63     598  \n",
       "147     25       138       42      31       5         47     308  \n",
       "155     63       241      194      76      18        123     962  \n",
       "159     74       221       65      44      30         52     445  \n",
       "170     47       169       33      21      22         38     243  \n",
       "183     69       454       32      34     105         74     432  \n",
       "184     82       131      198      41      14        118     393  \n",
       "196     75       611      128     133     142        146     744  \n",
       "197     67       222      208      99      18         90     523  \n",
       "213     82       241      140      77      19        138     996  \n",
       "219      1         0        0       0       0          1       2  \n",
       "226     82       255      109      93      18         94    1043  \n",
       "229     73        88       67      20      17         40     319  \n",
       "236     82      1104       55      73     153        120    1130  \n",
       "238     25        86        4       4       9         11      83  \n",
       "244     82       349      533     142      20        203     731  \n",
       "254     70       523       66      38      86         99     537  \n",
       "264     77       214      276      54      10        193     778  \n",
       "274     40        85       25      18       9         27     245  \n",
       "275     45       106       25      32       9         27     158  \n",
       "276     81       542      207      73      85        173    1030  \n",
       "282     62       382       50      52      68         86     426  \n",
       "286     77       164      317      49       4        150     768  \n",
       "287     31        42       13       8       2          5     105  \n",
       "292     33        35       73      18       5         42     121  \n",
       "294     33        66       46      23       1         24     153  \n",
       "295     55        64       29      39       7         38     188  \n",
       "300      8         2        0       0       1          4      10  \n",
       "316     30        28       16      16       7         14      94  \n",
       "336     30        86      157      48       8        113     507  \n",
       "338     12        36        2       1       9          5      32  \n",
       "348     41        74       44      18       9         48     231  \n",
       "352     33        72       28      15       7         10      74  \n",
       "396     65       198       79      40      68         85     411  \n",
       "421      8         9        3       2       2          3      16  \n",
       "424     19        34        4       5       5          7      57  \n",
       "426     34        48      104      19       6         33     145  \n",
       "429     34        64       17       5       4         25     100  \n",
       "435     62       200       72      44      70        105     487  \n",
       "437     74       163       77      38      26         76     386  \n",
       "440     35        39       11       6       1         11      73  "
      ]
     },
     "execution_count": 15,
     "metadata": {},
     "output_type": "execute_result"
    }
   ],
   "source": [
    "# Your code\n",
    "convenience_sample = full_data[full_data['Age'] < 22]\n",
    "convenience_sample"
   ]
  },
  {
   "cell_type": "code",
   "execution_count": 16,
   "metadata": {},
   "outputs": [
    {
     "data": {
      "text/plain": [
       "[20.363636363636363, 2.3835338181818178]"
      ]
     },
     "execution_count": 16,
     "metadata": {},
     "output_type": "execute_result"
    },
    {
     "data": {
      "image/png": "[encoded data removed]",
      "text/plain": [
       "<Figure size 432x288 with 2 Axes>"
      ]
     },
     "metadata": {
      "needs_background": "light"
     },
     "output_type": "display_data"
    }
   ],
   "source": [
    "# Your code\n",
    "convenience_stats = compute_statistics(convenience_sample)\n",
    "convenience_stats"
   ]
  },
  {
   "cell_type": "markdown",
   "metadata": {},
   "source": [
    "Next, we'll compare the convenience sample salaries with the full data salaries in a single histogram. To do that, we'll need to use the `bin_column` option of the `hist` method, which indicates that all columns are counts of the bins in a particular column."
   ]
  },
  {
   "cell_type": "code",
   "execution_count": 17,
   "metadata": {},
   "outputs": [
    {
     "data": {
      "image/png": "[encoded data removed]",
      "text/plain": [
       "<Figure size 432x288 with 1 Axes>"
      ]
     },
     "metadata": {
      "needs_background": "light"
     },
     "output_type": "display_data"
    },
    {
     "data": {
      "image/png": "[encoded data removed]",
      "text/plain": [
       "<Figure size 432x288 with 1 Axes>"
      ]
     },
     "metadata": {
      "needs_background": "light"
     },
     "output_type": "display_data"
    }
   ],
   "source": [
    "def compare_salaries(first, second, first_title, second_title):\n",
    "    \"\"\"Compare the salaries in two data frames.\"\"\"\n",
    "    first_salary_in_millions = first['Salary']\n",
    "    second_salary_in_millions = second['Salary']\n",
    "    first_tbl_millions = first.drop('Salary', 1)\n",
    "    first_tbl_millions[first_title] = first_salary_in_millions\n",
    "    second_tbl_millions = second.drop('Salary', 1)\n",
    "    second_tbl_millions[second_title] = second_salary_in_millions\n",
    "    max_salary = max(np.append(first_tbl_millions[first_title], \n",
    "                               second_tbl_millions[second_title]))\n",
    "    bins = np.arange(0, max_salary+1, 1)\n",
    "    first_binned = first_tbl_millions.hist(first_title, bins=bins)\n",
    "    second_binned = second_tbl_millions.hist(second_title, bins=bins)\n",
    "\n",
    "compare_salaries(full_data, convenience_sample, 'All Players', 'Convenience Sample')"
   ]
  },
  {
   "cell_type": "markdown",
   "metadata": {},
   "source": [
    "**Discussion:** Does the convenience sample give us an accurate picture of the salary of the full population? Discuss why it does or does not give an accurate picture? You may wish to refer to the means of the full data set and the convenience sample."
   ]
  },
  {
   "cell_type": "markdown",
   "metadata": {},
   "source": [
    "Your answer:\n",
    "The convenience sample does not give us an accurate picture of the salary of the full population. Younger players tend to be paid less, so we are seeing a smaller range of salaries."
   ]
  },
  {
   "cell_type": "markdown",
   "metadata": {},
   "source": [
    "### Simple random sampling\n",
    "A more justifiable approach is to sample uniformly at random from the players.  In a **simple random sample (SRS) without replacement**, we ensure that each player is selected at most once. Imagine writing down each player's name on a card, putting the cards in an box, and shuffling the box.  Then, pull out cards one by one and set them aside, stopping when the specified sample size is reached."
   ]
  },
  {
   "cell_type": "markdown",
   "metadata": {},
   "source": [
    "### Producing simple random samples\n",
    "Sometimes, it’s useful to take random samples even when we have the data for the whole population. It helps us understand sampling accuracy.\n",
    "\n",
    "### `sample`\n",
    "\n",
    "The data frame method `sample` produces a random sample from the data frame. By default, it draws at random **without replacement** from the rows of a table. It takes in the sample size as its argument and returns a **data frame** with only the rows that were selected.\n",
    "\n",
    "**Careful:** The default parameter for `replace` in `pd.sample` is `replace=False`, in contrast to `np.random.choice`, where it is `replace=True`.\n",
    "\n",
    "The optional argument `replace=True` is passed to `sample()` to specify that the sample should be drawn with replacement. \n",
    "\n",
    "Run the cell below to see an example call to `sample()` with a sample size of 5, without replacement."
   ]
  },
  {
   "cell_type": "code",
   "execution_count": 18,
   "metadata": {},
   "outputs": [
    {
     "data": {
      "text/html": [
       "<div>\n",
       "<style scoped>\n",
       "    .dataframe tbody tr th:only-of-type {\n",
       "        vertical-align: middle;\n",
       "    }\n",
       "\n",
       "    .dataframe tbody tr th {\n",
       "        vertical-align: top;\n",
       "    }\n",
       "\n",
       "    .dataframe thead th {\n",
       "        text-align: right;\n",
       "    }\n",
       "</style>\n",
       "<table border=\"1\" class=\"dataframe\">\n",
       "  <thead>\n",
       "    <tr style=\"text-align: right;\">\n",
       "      <th></th>\n",
       "      <th>PlayerName</th>\n",
       "      <th>Salary</th>\n",
       "    </tr>\n",
       "  </thead>\n",
       "  <tbody>\n",
       "    <tr>\n",
       "      <th>188</th>\n",
       "      <td>Steve Novak</td>\n",
       "      <td>3445947</td>\n",
       "    </tr>\n",
       "    <tr>\n",
       "      <th>241</th>\n",
       "      <td>Austin Rivers</td>\n",
       "      <td>2439840</td>\n",
       "    </tr>\n",
       "    <tr>\n",
       "      <th>9</th>\n",
       "      <td>Rudy Gay</td>\n",
       "      <td>19317326</td>\n",
       "    </tr>\n",
       "    <tr>\n",
       "      <th>347</th>\n",
       "      <td>Festus Ezeli</td>\n",
       "      <td>1112880</td>\n",
       "    </tr>\n",
       "    <tr>\n",
       "      <th>116</th>\n",
       "      <td>Gerald Henderson</td>\n",
       "      <td>6000000</td>\n",
       "    </tr>\n",
       "  </tbody>\n",
       "</table>\n",
       "</div>"
      ],
      "text/plain": [
       "           PlayerName    Salary\n",
       "188       Steve Novak   3445947\n",
       "241     Austin Rivers   2439840\n",
       "9            Rudy Gay  19317326\n",
       "347      Festus Ezeli   1112880\n",
       "116  Gerald Henderson   6000000"
      ]
     },
     "execution_count": 18,
     "metadata": {},
     "output_type": "execute_result"
    }
   ],
   "source": [
    "salary_data.sample(5, replace=False)"
   ]
  },
  {
   "cell_type": "markdown",
   "metadata": {},
   "source": [
    "**Exercise 07:** Produce a simple random sample of size 44 (10%) from `full_data`. Run your analysis on it again.  Run the cell a few times to see how the histograms and statistics change across different samples.\n",
    "\n",
    "**[DCS comment: I can't remember if we thought the statistical simulation should replace Exercise 07 & 08. I've written it as Exercise 09 (after 08), but feel free to remove 07 & 08 if you see fit]**\n",
    "\n",
    "- How much does the average age change across samples? \n",
    "- What about average salary?"
   ]
  },
  {
   "cell_type": "code",
   "execution_count": 19,
   "metadata": {},
   "outputs": [
    {
     "data": {
      "text/plain": [
       "[26.59090909090909, 4.277321863636365]"
      ]
     },
     "execution_count": 19,
     "metadata": {},
     "output_type": "execute_result"
    },
    {
     "data": {
      "image/png": "[encoded data removed]",
      "text/plain": [
       "<Figure size 432x288 with 2 Axes>"
      ]
     },
     "metadata": {
      "needs_background": "light"
     },
     "output_type": "display_data"
    }
   ],
   "source": [
    "# Your code\n",
    "my_small_srswor_data = full_data.sample(44, replace=False)\n",
    "my_small_stats = compute_statistics(my_small_srswor_data)\n",
    "my_small_stats"
   ]
  },
  {
   "cell_type": "markdown",
   "metadata": {},
   "source": [
    "Your answer:\n",
    "\n",
    "**JF: By sampling randomly, the statistics vary very little.**"
   ]
  },
  {
   "cell_type": "markdown",
   "metadata": {},
   "source": [
    "**Exercise 08:** As in the previous question, analyze several simple random samples of size 100 from `full_data`.  \n",
    "- Do the histogram shapes seem to change more or less across samples of 100 than across samples of size 44?  \n",
    "- Are the sample averages and histograms closer to their true values/shape for age or for salary?  What did you expect to see?"
   ]
  },
  {
   "cell_type": "code",
   "execution_count": 20,
   "metadata": {},
   "outputs": [
    {
     "data": {
      "text/plain": [
       "[26.31, 4.69715532]"
      ]
     },
     "execution_count": 20,
     "metadata": {},
     "output_type": "execute_result"
    },
    {
     "data": {
      "image/png": "[encoded data removed]",
      "text/plain": [
       "<Figure size 432x288 with 2 Axes>"
      ]
     },
     "metadata": {
      "needs_background": "light"
     },
     "output_type": "display_data"
    }
   ],
   "source": [
    "# Your code\n",
    "my_large_srswor_data = full_data.sample(100, replace=False)\n",
    "my_large_stats = compute_statistics(my_large_srswor_data)\n",
    "my_large_stats"
   ]
  },
  {
   "cell_type": "markdown",
   "metadata": {},
   "source": [
    "**Exercise 09:** Run a statistical simulation of the sample mean of the age and the salary from `full_data` with a sample size $n=44$ (10%) and $k=1000$ replications. Store the resulting samples in a data frame, and create histograms of the sample means."
   ]
  },
  {
   "cell_type": "code",
   "execution_count": 21,
   "metadata": {},
   "outputs": [],
   "source": [
    "# Your code"
   ]
  },
  {
   "cell_type": "markdown",
   "metadata": {},
   "source": [
    "**Exercise 10:** Repeat Exercise 09, but with a sample size of $n=100$"
   ]
  },
  {
   "cell_type": "code",
   "execution_count": 22,
   "metadata": {},
   "outputs": [],
   "source": [
    "# Your code"
   ]
  },
  {
   "cell_type": "markdown",
   "metadata": {},
   "source": [
    "**Discussion:** What differences do you observe between the histograms? Explain why any differences arise?"
   ]
  },
  {
   "cell_type": "code",
   "execution_count": 23,
   "metadata": {},
   "outputs": [],
   "source": [
    "# Your answer"
   ]
  },
  {
   "cell_type": "markdown",
   "metadata": {},
   "source": [
    "Your answer:\n",
    "**JF: The width of the distribution with 100 samples is less than the width with 44 samples.**"
   ]
  },
  {
   "cell_type": "markdown",
   "metadata": {},
   "source": [
    "## 4. Alabama v Swain (1965)\n",
    "\n",
    "**Exercise 11:** Use what you've learned in this lab to replicate the simulation of the Alabama v Swain (1965) case from the lecture notes. In summary, we want to work out the distribution of the number of Black people on a jury panel of 100 that that was chosen randomly from a population comprising 26% Black and 74% non-Black people."
   ]
  },
  {
   "cell_type": "code",
   "execution_count": 24,
   "metadata": {},
   "outputs": [],
   "source": [
    "# Your answer"
   ]
  },
  {
   "cell_type": "code",
   "execution_count": null,
   "metadata": {},
   "outputs": [],
   "source": []
  }
 ],
 "metadata": {
  "kernelspec": {
   "display_name": "Python 3",
   "language": "python",
   "name": "python3"
  },
  "language_info": {
   "codemirror_mode": {
    "name": "ipython",
    "version": 3
   },
   "file_extension": ".py",
   "mimetype": "text/x-python",
   "name": "python",
   "nbconvert_exporter": "python",
   "pygments_lexer": "ipython3",
   "version": "3.8.1"
  }
 },
 "nbformat": 4,
 "nbformat_minor": 4
}
